{
  "cells": [
    {
      "cell_type": "markdown",
      "metadata": {
        "id": "TV3Socqg8BVl"
      },
      "source": [
        "## Task\n",
        "- Complete **isHappy** function following the description below\n",
        "\n",
        "### Happy Number\n",
        "Write an algorithm to determine if a number **n** is happy.\n",
        "\n",
        "A **happy number** is a number defined by the following process:\n",
        "\n",
        "* Starting with any positive integer, replace the number by the sum of the squares of its digits.\n",
        "* Repeat the process until the number equals 1 (where it will stay), or it **loops endlessly in a cycle** which does not include 1.\n",
        "* Those numbers for which this process **ends in 1** are happy.\n",
        "\n",
        "Return **true** if n is a happy number, and **false** if not.\n",
        "\n",
        "Constraints:\n",
        "1 <= n <= $2^{31}$ - 1"
      ]
    },
    {
      "cell_type": "code",
      "execution_count": 2,
      "metadata": {
        "colab": {
          "base_uri": "https://localhost:8080/"
        },
        "id": "5FcxitVf5kdQ",
        "outputId": "5e198f4c-fab8-407d-8466-fd2ae0f002c4"
      },
      "outputs": [
        {
          "name": "stdout",
          "output_type": "stream",
          "text": [
            "False\n"
          ]
        }
      ],
      "source": [
        "def isHappy(n):\n",
        "  thisset = {\"a\"}\n",
        "  total = 0\n",
        "  while total != 1:\n",
        "    total = 0\n",
        "    while n > 0:\n",
        "      digit = n % 10\n",
        "      total += digit * digit\n",
        "      n //= 10\n",
        "    if total in thisset:\n",
        "      break\n",
        "    n = total\n",
        "    thisset.add(total)\n",
        "  if total == 1:\n",
        "      return True\n",
        "  else:\n",
        "    return False\n",
        "\n",
        "\n",
        "print(isHappy(19))"
      ]
    },
    {
      "cell_type": "markdown",
      "metadata": {
        "id": "eRrh24Ognrqf"
      },
      "source": [
        "**Testcase 1.**\n",
        "\n",
        "**Input**: 19\n",
        "\n",
        "**Output**: True\n",
        "\n",
        "**Explanation**:\n",
        "\n",
        "$1^2 + 9^2 = 82$\n",
        "\n",
        "$8^2 + 2^2 = 68$\n",
        "\n",
        "$6^2 + 8^2 = 100$\n",
        "\n",
        "$1^2 + 0^2 + 0^2 = 1$"
      ]
    },
    {
      "cell_type": "markdown",
      "metadata": {
        "id": "dE7YMY8qoPoj"
      },
      "source": [
        "**Testcase 2.**\n",
        "\n",
        "**Input**: 2\n",
        "\n",
        "**Output**: False"
      ]
    }
  ],
  "metadata": {
    "colab": {
      "provenance": []
    },
    "kernelspec": {
      "display_name": "Python 3",
      "name": "python3"
    },
    "language_info": {
      "codemirror_mode": {
        "name": "ipython",
        "version": 3
      },
      "file_extension": ".py",
      "mimetype": "text/x-python",
      "name": "python",
      "nbconvert_exporter": "python",
      "pygments_lexer": "ipython3",
      "version": "3.11.5"
    }
  },
  "nbformat": 4,
  "nbformat_minor": 0
}
